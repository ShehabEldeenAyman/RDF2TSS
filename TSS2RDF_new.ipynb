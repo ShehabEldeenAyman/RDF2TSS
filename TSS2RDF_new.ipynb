{
 "cells": [
  {
   "cell_type": "code",
   "execution_count": 30,
   "id": "de7aac38",
   "metadata": {},
   "outputs": [],
   "source": [
    "from rdflib import Graph,URIRef,Namespace,BNode,Literal,XSD\n",
    "from rdflib.namespace import XSD,RDF\n",
    "import pandas as pd\n",
    "import argparse\n",
    "from collections import defaultdict\n",
    "from datetime import datetime\n",
    "import json\n",
    "from rdflib import URIRef\n",
    "from collections import defaultdict\n",
    "import json\n",
    "\n"
   ]
  },
  {
   "cell_type": "code",
   "execution_count": 2,
   "id": "0f9dee9c",
   "metadata": {},
   "outputs": [
    {
     "name": "stdout",
     "output_type": "stream",
     "text": [
      "Started loading graph...\n",
      "Graph loaded successfully.\n"
     ]
    }
   ],
   "source": [
    "graph = Graph()\n",
    "directory = 'sampleTSS.ttl'\n",
    "print(\"Started loading graph...\")\n",
    "graph.parse(directory, format=\"turtle\",publicID=\"https://example.org/\")\n",
    "print(\"Graph loaded successfully.\")"
   ]
  },
  {
   "cell_type": "code",
   "execution_count": null,
   "id": "d1e8340f",
   "metadata": {},
   "outputs": [
    {
     "ename": "SyntaxError",
     "evalue": "invalid syntax (2296010491.py, line 24)",
     "output_type": "error",
     "traceback": [
      "\u001b[0;36m  Cell \u001b[0;32mIn[3], line 24\u001b[0;36m\u001b[0m\n\u001b[0;31m    */\u001b[0m\n\u001b[0m     ^\u001b[0m\n\u001b[0;31mSyntaxError\u001b[0m\u001b[0;31m:\u001b[0m invalid syntax\n"
     ]
    }
   ],
   "source": [
    "\n",
    "#Get unique time series snippets\n",
    "snippet_set = set()\n",
    "\n",
    "get_snippet_query = '''\n",
    "        PREFIX sosa: <http://www.w3.org/ns/sosa/>\n",
    "        PREFIX tss:  <https://w3id.org/tss#>\n",
    "        PREFIX rdf:  <http://www.w3.org/1999/02/22-rdf-syntax-ns#>\n",
    "        PREFIX xsd:  <http://www.w3.org/2001/XMLSchema#>\n",
    "\n",
    "        SELECT DISTINCT ?snippet ?PtsObj\n",
    "        WHERE{\n",
    "            ?snippet a tss:Snippet .\n",
    "            ?snippet tss:points ?PtsObj .\n",
    "        }\n",
    "        '''\n",
    "print('Started identifying unique sensors')\n",
    "for snippet, PtsObj in graph.query(get_snippet_query):\n",
    "    snippet_set.add(snippet)   # keep adding the snippet URI\n",
    "    print(f\"Snippet: {snippet}, PtsObj: {PtsObj}\")\n",
    "    print(type(PtsObj))\n",
    "\n",
    "print('Snippets identified successfully')\n"
   ]
  },
  {
   "cell_type": "code",
   "execution_count": 33,
   "id": "3acdc8aa",
   "metadata": {},
   "outputs": [
    {
     "name": "stdout",
     "output_type": "stream",
     "text": [
      "Started creating final graph\n"
     ]
    }
   ],
   "source": [
    "# Nested dict: subject -> predicate -> list of objects\n",
    "#results = defaultdict(lambda: defaultdict(list))\n",
    "\n",
    "#Create RDF\n",
    "prefix_tss = Namespace('https://w3id.org/tss#')\n",
    "prefix_ex  = Namespace('http://example.org/')\n",
    "prefix_sosa  = Namespace('http://www.w3.org/ns/sosa/')\n",
    "prefix_xsd  = Namespace('http://www.w3.org/2001/XMLSchema#')\n",
    "final_graph = Graph()\n",
    "final_graph.bind('tss', prefix_tss)\n",
    "final_graph.bind('ex', prefix_ex)\n",
    "final_graph.bind('sosa', prefix_sosa)\n",
    "final_graph.bind('xsd', prefix_xsd)\n",
    "print('Started creating final graph')\n",
    "\n",
    "\n",
    "get_snippet_query = '''\n",
    "PREFIX sosa: <http://www.w3.org/ns/sosa/>\n",
    "PREFIX tss:  <https://w3id.org/tss#>\n",
    "PREFIX rdf:  <http://www.w3.org/1999/02/22-rdf-syntax-ns#>\n",
    "PREFIX xsd:  <http://www.w3.org/2001/XMLSchema#>\n",
    "\n",
    "SELECT ?snippet ?P ?O ?about ?aboutP ?aboutO\n",
    "WHERE {\n",
    "  ?snippet a tss:Snippet .\n",
    "  ?snippet ?P ?O .\n",
    "\n",
    "  OPTIONAL {\n",
    "    ?snippet tss:about ?about .\n",
    "    ?about ?aboutP ?aboutO .\n",
    "  }\n",
    "}\n",
    "\n",
    "        '''\n",
    "tss_points = URIRef(\"https://w3id.org/tss#points\")\n",
    "tss_Snippet = URIRef(\"https://w3id.org/tss#Snippet\")\n",
    "tss_PointTemplate = URIRef(\"https://w3id.org/tss#PointTemplate\")\n",
    "\n",
    "\n",
    "for subj, pred, obj, about, aboutP, aboutO in graph.query(get_snippet_query):\n",
    "    # store snippet triples\n",
    "    if subj and pred and obj:\n",
    "        if pred == tss_points: #this is where i should focus on derefrencing the json object\n",
    "          #results[subj][pred].append(obj)\n",
    "          parsed = json.loads(str(obj)) #json array\n",
    "          for point in parsed:\n",
    "            json_time = point['time']\n",
    "            json_value = point['value']\n",
    "            #now convert them from strings and add them to final graph\n",
    "            json_time = Literal(json_time,datatype=XSD.dateTime)\n",
    "            json_value = Literal(json_value,datatype=XSD.decimal) \n",
    "\n",
    "            final_graph.add((subj,URIRef(\"http://www.w3.org/ns/sosa/resultTime\"),json_time))\n",
    "            final_graph.add((subj,URIRef(\"http://www.w3.org/ns/sosa/hasSimpleResult\"),json_value))\n",
    "\n",
    "          #final_graph.add((subj, pred, obj)) #instead of adding the entire json object, will break it down and add each element as object.\n",
    "        \n",
    "        if obj == tss_Snippet:\n",
    "            continue\n",
    "\n",
    "    # store about triples\n",
    "    if about and aboutP and aboutO:\n",
    "        if aboutO != tss_PointTemplate:\n",
    "          #results[subj][aboutP].append(aboutO)\n",
    "          final_graph.add((subj, aboutP, aboutO))\n"
   ]
  },
  {
   "cell_type": "code",
   "execution_count": 36,
   "id": "1bb8aa93",
   "metadata": {},
   "outputs": [
    {
     "name": "stdout",
     "output_type": "stream",
     "text": [
      "Started writing file to disk\n",
      "File written successfully\n"
     ]
    }
   ],
   "source": [
    "print('Started writing file to disk')\n",
    "final_graph.serialize('generated_TSS2RDF.ttl', format=\"turtle\")\n",
    "print('File written successfully')"
   ]
  },
  {
   "cell_type": "code",
   "execution_count": null,
   "id": "0db53919",
   "metadata": {},
   "outputs": [],
   "source": []
  }
 ],
 "metadata": {
  "kernelspec": {
   "display_name": "base",
   "language": "python",
   "name": "python3"
  },
  "language_info": {
   "codemirror_mode": {
    "name": "ipython",
    "version": 3
   },
   "file_extension": ".py",
   "mimetype": "text/x-python",
   "name": "python",
   "nbconvert_exporter": "python",
   "pygments_lexer": "ipython3",
   "version": "3.12.7"
  }
 },
 "nbformat": 4,
 "nbformat_minor": 5
}
