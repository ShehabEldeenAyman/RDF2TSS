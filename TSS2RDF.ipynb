{
 "cells": [
  {
   "cell_type": "code",
   "execution_count": 1,
   "id": "a32a382a",
   "metadata": {},
   "outputs": [],
   "source": [
    "from rdflib import Graph,URIRef,Namespace,BNode,Literal\n",
    "from rdflib.namespace import XSD,RDF\n",
    "import pandas as pd\n",
    "import argparse\n",
    "from collections import defaultdict\n",
    "from datetime import datetime\n",
    "import json\n",
    "from rdflib import URIRef\n"
   ]
  },
  {
   "cell_type": "code",
   "execution_count": 2,
   "id": "849125eb",
   "metadata": {},
   "outputs": [
    {
     "name": "stdout",
     "output_type": "stream",
     "text": [
      "Started loading graph...\n",
      "Graph loaded successfully.\n"
     ]
    }
   ],
   "source": [
    "graph = Graph()\n",
    "directory = 'sampleTSS.ttl'\n",
    "print(\"Started loading graph...\")\n",
    "graph.parse(directory, format=\"turtle\",publicID=\"https://example.org/\")\n",
    "print(\"Graph loaded successfully.\")\n"
   ]
  },
  {
   "cell_type": "code",
   "execution_count": 3,
   "id": "7b6c4971",
   "metadata": {},
   "outputs": [
    {
     "name": "stdout",
     "output_type": "stream",
     "text": [
      "Started identifying unique sensors\n",
      "Snippets identified successfully\n"
     ]
    }
   ],
   "source": [
    "#Get unique time series snippets\n",
    "snippet_set = set()\n",
    "\n",
    "get_snippet_query = '''\n",
    "        PREFIX sosa: <http://www.w3.org/ns/sosa/>\n",
    "        PREFIX tss:  <https://w3id.org/tss#>\n",
    "        PREFIX rdf:  <http://www.w3.org/1999/02/22-rdf-syntax-ns#>\n",
    "        PREFIX xsd:  <http://www.w3.org/2001/XMLSchema#>\n",
    "\n",
    "        SELECT DISTINCT ?snippet\n",
    "        WHERE{\n",
    "            ?snippet a tss:Snippet\n",
    "        }\n",
    "        '''\n",
    "print('Started identifying unique sensors')\n",
    "for snippet in graph.query(get_snippet_query):\n",
    "    snippet_term = snippet[0]   # this is an rdflib term (URIRef or Literal)\n",
    "    snippet_set.add(snippet_term)\n",
    "\n",
    "print('Snippets identified successfully')"
   ]
  },
  {
   "cell_type": "code",
   "execution_count": 6,
   "id": "9d0b3e15",
   "metadata": {},
   "outputs": [
    {
     "name": "stdout",
     "output_type": "stream",
     "text": [
      "{rdflib.term.URIRef('https://example.org/snippet/2026-01-05-press-1'), rdflib.term.URIRef('https://example.org/snippet/2026-01-04-cond-1'), rdflib.term.URIRef('https://example.org/snippet/2026-01-07-motion-1'), rdflib.term.URIRef('https://example.org/snippet/2026-01-09-noise-1'), rdflib.term.URIRef('https://example.org/snippet/2026-01-13-batt-1'), rdflib.term.URIRef('https://example.org/snippet/2026-01-10-turbidity-1'), rdflib.term.URIRef('https://example.org/snippet/2026-01-14-orp-1'), rdflib.term.URIRef('https://example.org/snippet/2026-01-01-temp-1'), rdflib.term.URIRef('https://example.org/snippet/2026-01-08-co2-1'), rdflib.term.URIRef('https://example.org/snippet/2026-01-12-level-1'), rdflib.term.URIRef('https://example.org/snippet/2026-01-06-light-1'), rdflib.term.URIRef('https://example.org/snippet/2026-01-03-ph-1'), rdflib.term.URIRef('https://example.org/snippet/2026-01-11-flow-1'), rdflib.term.URIRef('https://example.org/snippet/2026-01-15-custom-1'), rdflib.term.URIRef('https://example.org/snippet/2026-01-02-humidity-1')}\n"
     ]
    }
   ],
   "source": [
    "print(snippet_set)"
   ]
  },
  {
   "cell_type": "code",
   "execution_count": 4,
   "id": "7e310521",
   "metadata": {},
   "outputs": [
    {
     "name": "stdout",
     "output_type": "stream",
     "text": [
      "Started creating final graph\n"
     ]
    }
   ],
   "source": [
    "#Create RDF\n",
    "prefix_tss = Namespace('https://w3id.org/tss#')\n",
    "prefix_ex  = Namespace('http://example.org/')\n",
    "prefix_sosa  = Namespace('http://www.w3.org/ns/sosa/')\n",
    "prefix_xsd  = Namespace('http://www.w3.org/2001/XMLSchema#')\n",
    "final_graph = Graph()\n",
    "final_graph.bind('tss', prefix_tss)\n",
    "final_graph.bind('ex', prefix_ex)\n",
    "final_graph.bind('sosa', prefix_sosa)\n",
    "final_graph.bind('xsd', prefix_xsd)\n",
    "print('Started creating final graph')\n",
    "\n",
    "for snippet in snippet_set:\n",
    "    # ensure snippet is a bare URI string (no angle brackets) before inserting\n",
    "    snippet_uri = str(snippet)\n",
    "    rdf_query = f'''\n",
    "    PREFIX sosa: <http://www.w3.org/ns/sosa/>\n",
    "    PREFIX tss:  <https://w3id.org/tss#>\n",
    "    PREFIX rdf:  <http://www.w3.org/1999/02/22-rdf-syntax-ns#>\n",
    "    PREFIX xsd:  <http://www.w3.org/2001/XMLSchema#>\n",
    "\n",
    "    CONSTRUCT {{\n",
    "      ?s ?p ?o .\n",
    "    }}\n",
    "    WHERE {{\n",
    "      VALUES ?s {{ <{snippet_uri}> }}\n",
    "      ?s ?p ?o .\n",
    "    }}\n",
    "    '''\n",
    "    constructed = graph.query(rdf_query)   # a Graph-like result for CONSTRUCT\n",
    "    for triple in constructed:\n",
    "        final_graph.add(triple)"
   ]
  },
  {
   "cell_type": "code",
   "execution_count": 5,
   "id": "ccea71f7",
   "metadata": {},
   "outputs": [
    {
     "name": "stdout",
     "output_type": "stream",
     "text": [
      "Started writing file to disk\n",
      "File written successfully\n"
     ]
    }
   ],
   "source": [
    "print('Started writing file to disk')\n",
    "final_graph.serialize('generated_TSS2RDF.ttl', format=\"turtle\")\n",
    "print('File written successfully')"
   ]
  },
  {
   "cell_type": "code",
   "execution_count": null,
   "id": "d16777b1",
   "metadata": {},
   "outputs": [],
   "source": []
  },
  {
   "cell_type": "code",
   "execution_count": null,
   "id": "f69d4f32",
   "metadata": {},
   "outputs": [],
   "source": []
  },
  {
   "cell_type": "code",
   "execution_count": null,
   "id": "7595f8ab",
   "metadata": {},
   "outputs": [],
   "source": []
  }
 ],
 "metadata": {
  "kernelspec": {
   "display_name": "base",
   "language": "python",
   "name": "python3"
  },
  "language_info": {
   "codemirror_mode": {
    "name": "ipython",
    "version": 3
   },
   "file_extension": ".py",
   "mimetype": "text/x-python",
   "name": "python",
   "nbconvert_exporter": "python",
   "pygments_lexer": "ipython3",
   "version": "3.12.7"
  }
 },
 "nbformat": 4,
 "nbformat_minor": 5
}
